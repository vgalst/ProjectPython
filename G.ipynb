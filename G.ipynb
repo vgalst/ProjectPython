{
 "cells": [
  {
   "cell_type": "code",
   "execution_count": 1,
   "metadata": {},
   "outputs": [],
   "source": [
    "#Time of Day vs Number of Rides V\n",
    "#Wind Speed vs Number of Rides G (group by windspeed and count num of rides)\n",
    "#Humidity vs Number of Rides V\n",
    "#Temperature vs Number of Rides G (group by windspeed and count num of rides))\n",
    "#Time of Day vs Trip Duration V\n",
    "#Temperature vs Trip Duration G (Done)\n",
    "#Zip Code vs Trip Duration V\n",
    "#Humidity vs Trip Duration G (Done)\n",
    "#Zip Code vs Number of Rides V\n",
    "#Time of Day vs Trip Duration G (Done)\n",
    "#SR_Flag vs Trip Duration G (Done)\n",
    "\n",
    "#groupby windspeed, then take mean of trip duration\n",
    "\n",
    "#Combining the data sets all together into one dataframe to compare all together and not month by month!\n"
   ]
  },
  {
   "cell_type": "code",
   "execution_count": 2,
   "metadata": {},
   "outputs": [],
   "source": [
    "import pandas as pd \n",
    "import glob \n",
    "import matplotlib.pyplot as plt\n",
    "import numpy as np \n",
    "\n",
    "Jan = pd.read_csv(\"RideShare_Data_201801.csv\", parse_dates=[0], low_memory=False)\n",
    "Feb = pd.read_csv(\"RideShare_Data_201802.csv\", parse_dates=[0], low_memory=False)\n",
    "Mar = pd.read_csv(\"RideShare_Data_201803.csv\", parse_dates=[0], low_memory=False)\n",
    "Apr = pd.read_csv(\"RideShare_Data_201804.csv\", parse_dates=[0], low_memory=False)\n",
    "May = pd.read_csv(\"RideShare_Data_201805.csv\", parse_dates=[0], low_memory=False)\n",
    "Jun = pd.read_csv(\"RideShare_Data_201806.csv\", parse_dates=[0], low_memory=False)\n",
    "Jul = pd.read_csv(\"RideShare_Data_201807.csv\", parse_dates=[0], low_memory=False)\n",
    "Aug = pd.read_csv(\"RideShare_Data_201808.csv\", parse_dates=[0], low_memory=False)\n",
    "Sep = pd.read_csv(\"RideShare_Data_201809.csv\", parse_dates=[0], low_memory=False)\n",
    "Oct = pd.read_csv(\"RideShare_Data_201810.csv\", parse_dates=[0], low_memory=False)\n",
    "Nov = pd.read_csv(\"RideShare_Data_201811.csv\", parse_dates=[0], low_memory=False)\n",
    "Dec = pd.read_csv(\"RideShare_Data_201812.csv\", parse_dates=[0], low_memory=False)\n",
    "Yearly_Data = pd.concat([Jan, Feb, Mar, Apr, May, Jun, Jul, Aug, Sep, Oct, Nov, Dec])\n",
    "Yearly_Data['Time'] = [d.time() for d in Yearly_Data['Pickup_DateTime']]\n",
    "Yearly_Data[['Hour','Minute','Second']] = Yearly_Data['Time'].astype(str).str.split(':', expand=True).astype(int)\n"
   ]
  },
  {
   "cell_type": "code",
   "execution_count": 3,
   "metadata": {},
   "outputs": [
    {
     "data": {
      "text/html": [
       "<div>\n",
       "<style scoped>\n",
       "    .dataframe tbody tr th:only-of-type {\n",
       "        vertical-align: middle;\n",
       "    }\n",
       "\n",
       "    .dataframe tbody tr th {\n",
       "        vertical-align: top;\n",
       "    }\n",
       "\n",
       "    .dataframe thead th {\n",
       "        text-align: right;\n",
       "    }\n",
       "</style>\n",
       "<table border=\"1\" class=\"dataframe\">\n",
       "  <thead>\n",
       "    <tr style=\"text-align: right;\">\n",
       "      <th></th>\n",
       "      <th>Pickup_DateTime</th>\n",
       "      <th>DropOff_datetime</th>\n",
       "      <th>PUlocationID</th>\n",
       "      <th>DOlocationID</th>\n",
       "      <th>SR_Flag</th>\n",
       "      <th>Pickup_City</th>\n",
       "      <th>Dropoff_City</th>\n",
       "      <th>Pickup_ZipCode</th>\n",
       "      <th>Dropoff_ZipCode</th>\n",
       "      <th>Trip_Duration</th>\n",
       "      <th>Temp</th>\n",
       "      <th>humidity</th>\n",
       "      <th>wind_speed</th>\n",
       "      <th>weather_id</th>\n",
       "      <th>weather_main</th>\n",
       "      <th>weather_description</th>\n",
       "      <th>Time</th>\n",
       "      <th>Hour</th>\n",
       "      <th>Minute</th>\n",
       "      <th>Second</th>\n",
       "    </tr>\n",
       "  </thead>\n",
       "  <tbody>\n",
       "    <tr>\n",
       "      <th>0</th>\n",
       "      <td>2018-01-01 22:22:00</td>\n",
       "      <td>1/1/18 22:44</td>\n",
       "      <td>205.0</td>\n",
       "      <td>63.0</td>\n",
       "      <td>1.0</td>\n",
       "      <td>Saint Albans, Queens</td>\n",
       "      <td>Cypress Hills, Brooklyn</td>\n",
       "      <td>11366</td>\n",
       "      <td>11216</td>\n",
       "      <td>22.750000</td>\n",
       "      <td>17</td>\n",
       "      <td>34</td>\n",
       "      <td>3</td>\n",
       "      <td>800</td>\n",
       "      <td>Clear</td>\n",
       "      <td>sky is clear</td>\n",
       "      <td>22:22:00</td>\n",
       "      <td>22</td>\n",
       "      <td>22</td>\n",
       "      <td>0</td>\n",
       "    </tr>\n",
       "    <tr>\n",
       "      <th>1</th>\n",
       "      <td>2018-01-01 12:44:00</td>\n",
       "      <td>1/1/18 13:12</td>\n",
       "      <td>125.0</td>\n",
       "      <td>93.0</td>\n",
       "      <td>0.0</td>\n",
       "      <td>Hudson Sq, Manhattan</td>\n",
       "      <td>Flushing Meadows-Corona Park, Queens</td>\n",
       "      <td>10024</td>\n",
       "      <td>11366</td>\n",
       "      <td>28.033333</td>\n",
       "      <td>6</td>\n",
       "      <td>60</td>\n",
       "      <td>2</td>\n",
       "      <td>800</td>\n",
       "      <td>Clear</td>\n",
       "      <td>sky is clear</td>\n",
       "      <td>12:44:00</td>\n",
       "      <td>12</td>\n",
       "      <td>44</td>\n",
       "      <td>0</td>\n",
       "    </tr>\n",
       "    <tr>\n",
       "      <th>2</th>\n",
       "      <td>2018-01-01 00:28:00</td>\n",
       "      <td>1/1/18 0:41</td>\n",
       "      <td>39.0</td>\n",
       "      <td>71.0</td>\n",
       "      <td>1.0</td>\n",
       "      <td>Canarsie, Brooklyn</td>\n",
       "      <td>East Flatbush/Farragut, Brooklyn</td>\n",
       "      <td>11216</td>\n",
       "      <td>11216</td>\n",
       "      <td>13.116667</td>\n",
       "      <td>11</td>\n",
       "      <td>43</td>\n",
       "      <td>4</td>\n",
       "      <td>800</td>\n",
       "      <td>Clear</td>\n",
       "      <td>sky is clear</td>\n",
       "      <td>00:28:00</td>\n",
       "      <td>0</td>\n",
       "      <td>28</td>\n",
       "      <td>0</td>\n",
       "    </tr>\n",
       "    <tr>\n",
       "      <th>3</th>\n",
       "      <td>2018-01-01 02:42:00</td>\n",
       "      <td>1/1/18 2:56</td>\n",
       "      <td>100.0</td>\n",
       "      <td>137.0</td>\n",
       "      <td>0.0</td>\n",
       "      <td>Garment District, Manhattan</td>\n",
       "      <td>Kips Bay, Manhattan</td>\n",
       "      <td>10024</td>\n",
       "      <td>10024</td>\n",
       "      <td>13.850000</td>\n",
       "      <td>9</td>\n",
       "      <td>46</td>\n",
       "      <td>5</td>\n",
       "      <td>800</td>\n",
       "      <td>Clear</td>\n",
       "      <td>sky is clear</td>\n",
       "      <td>02:42:00</td>\n",
       "      <td>2</td>\n",
       "      <td>42</td>\n",
       "      <td>0</td>\n",
       "    </tr>\n",
       "    <tr>\n",
       "      <th>4</th>\n",
       "      <td>2018-01-01 14:15:00</td>\n",
       "      <td>1/1/18 14:37</td>\n",
       "      <td>55.0</td>\n",
       "      <td>115.0</td>\n",
       "      <td>0.0</td>\n",
       "      <td>Coney Island, Brooklyn</td>\n",
       "      <td>Grymes Hill/Clifton, Staten Island</td>\n",
       "      <td>11216</td>\n",
       "      <td>10306</td>\n",
       "      <td>22.150000</td>\n",
       "      <td>8</td>\n",
       "      <td>60</td>\n",
       "      <td>2</td>\n",
       "      <td>800</td>\n",
       "      <td>Clear</td>\n",
       "      <td>sky is clear</td>\n",
       "      <td>14:15:00</td>\n",
       "      <td>14</td>\n",
       "      <td>15</td>\n",
       "      <td>0</td>\n",
       "    </tr>\n",
       "  </tbody>\n",
       "</table>\n",
       "</div>"
      ],
      "text/plain": [
       "      Pickup_DateTime DropOff_datetime  PUlocationID  DOlocationID  SR_Flag  \\\n",
       "0 2018-01-01 22:22:00     1/1/18 22:44         205.0          63.0      1.0   \n",
       "1 2018-01-01 12:44:00     1/1/18 13:12         125.0          93.0      0.0   \n",
       "2 2018-01-01 00:28:00      1/1/18 0:41          39.0          71.0      1.0   \n",
       "3 2018-01-01 02:42:00      1/1/18 2:56         100.0         137.0      0.0   \n",
       "4 2018-01-01 14:15:00     1/1/18 14:37          55.0         115.0      0.0   \n",
       "\n",
       "                   Pickup_City                          Dropoff_City  \\\n",
       "0         Saint Albans, Queens               Cypress Hills, Brooklyn   \n",
       "1         Hudson Sq, Manhattan  Flushing Meadows-Corona Park, Queens   \n",
       "2           Canarsie, Brooklyn      East Flatbush/Farragut, Brooklyn   \n",
       "3  Garment District, Manhattan                   Kips Bay, Manhattan   \n",
       "4       Coney Island, Brooklyn    Grymes Hill/Clifton, Staten Island   \n",
       "\n",
       "   Pickup_ZipCode  Dropoff_ZipCode  Trip_Duration  Temp  humidity  wind_speed  \\\n",
       "0           11366            11216      22.750000    17        34           3   \n",
       "1           10024            11366      28.033333     6        60           2   \n",
       "2           11216            11216      13.116667    11        43           4   \n",
       "3           10024            10024      13.850000     9        46           5   \n",
       "4           11216            10306      22.150000     8        60           2   \n",
       "\n",
       "   weather_id weather_main weather_description      Time  Hour  Minute  Second  \n",
       "0         800        Clear        sky is clear  22:22:00    22      22       0  \n",
       "1         800        Clear        sky is clear  12:44:00    12      44       0  \n",
       "2         800        Clear        sky is clear  00:28:00     0      28       0  \n",
       "3         800        Clear        sky is clear  02:42:00     2      42       0  \n",
       "4         800        Clear        sky is clear  14:15:00    14      15       0  "
      ]
     },
     "execution_count": 3,
     "metadata": {},
     "output_type": "execute_result"
    }
   ],
   "source": [
    "Yearly_Data.head()"
   ]
  },
  {
   "cell_type": "code",
   "execution_count": 4,
   "metadata": {},
   "outputs": [
    {
     "data": {
      "text/plain": [
       "0         22:22:00\n",
       "1         12:44:00\n",
       "2         00:28:00\n",
       "3         02:42:00\n",
       "4         14:15:00\n",
       "5         04:44:00\n",
       "6         02:39:00\n",
       "7         03:46:00\n",
       "8         05:34:00\n",
       "9         13:59:00\n",
       "10        03:45:00\n",
       "11        23:40:00\n",
       "12        04:20:00\n",
       "13        01:07:00\n",
       "14        00:33:00\n",
       "15        01:35:00\n",
       "16        01:02:00\n",
       "17        04:14:00\n",
       "18        18:15:00\n",
       "19        13:33:00\n",
       "20        10:43:00\n",
       "21        19:04:00\n",
       "22        13:19:00\n",
       "23        14:41:00\n",
       "24        06:32:00\n",
       "25        19:56:00\n",
       "26        04:00:00\n",
       "27        03:33:00\n",
       "28        22:26:00\n",
       "29        01:20:00\n",
       "            ...   \n",
       "261524    20:10:38\n",
       "261525    15:05:33\n",
       "261526    18:19:55\n",
       "261527    19:20:31\n",
       "261528    20:00:56\n",
       "261529    18:17:31\n",
       "261530    21:23:33\n",
       "261531    15:01:24\n",
       "261532    17:26:09\n",
       "261533    18:13:41\n",
       "261534    01:58:36\n",
       "261535    17:35:04\n",
       "261536    12:32:53\n",
       "261537    15:38:12\n",
       "261538    17:01:52\n",
       "261539    11:16:27\n",
       "261540    05:49:44\n",
       "261541    20:19:34\n",
       "261542    01:10:49\n",
       "261543    22:24:06\n",
       "261544    20:21:00\n",
       "261545    08:22:55\n",
       "261546    07:18:25\n",
       "261547    07:15:12\n",
       "261548    23:03:53\n",
       "261549    21:38:27\n",
       "261550    18:12:45\n",
       "261551    07:51:23\n",
       "261552    13:31:22\n",
       "261553    18:49:23\n",
       "Name: Time, Length: 3009575, dtype: object"
      ]
     },
     "execution_count": 4,
     "metadata": {},
     "output_type": "execute_result"
    }
   ],
   "source": [
    "Yearly_Data['Time']"
   ]
  },
  {
   "cell_type": "code",
   "execution_count": 5,
   "metadata": {},
   "outputs": [
    {
     "data": {
      "text/plain": [
       "0         22.750000\n",
       "1         28.033333\n",
       "2         13.116667\n",
       "3         13.850000\n",
       "4         22.150000\n",
       "5         16.833333\n",
       "6          8.533333\n",
       "7          5.783333\n",
       "8          5.666667\n",
       "9          9.416667\n",
       "10        14.266667\n",
       "11         5.783333\n",
       "12        11.600000\n",
       "13        16.550000\n",
       "14        67.183333\n",
       "15         5.783333\n",
       "16         9.016667\n",
       "17         5.750000\n",
       "18        31.066667\n",
       "19         8.016667\n",
       "20        22.900000\n",
       "21         8.750000\n",
       "22        11.083333\n",
       "23        18.300000\n",
       "24        27.333333\n",
       "25         8.033333\n",
       "26         7.400000\n",
       "27        30.350000\n",
       "28         9.550000\n",
       "29         5.750000\n",
       "            ...    \n",
       "261524     9.000000\n",
       "261525    16.000000\n",
       "261526     5.000000\n",
       "261527    51.000000\n",
       "261528     5.000000\n",
       "261529    31.000000\n",
       "261530    34.000000\n",
       "261531    15.000000\n",
       "261532    22.000000\n",
       "261533    13.000000\n",
       "261534     9.000000\n",
       "261535    28.000000\n",
       "261536    16.000000\n",
       "261537     9.000000\n",
       "261538    35.000000\n",
       "261539    19.000000\n",
       "261540    13.000000\n",
       "261541     8.000000\n",
       "261542    25.000000\n",
       "261543     9.000000\n",
       "261544    24.000000\n",
       "261545    14.000000\n",
       "261546    23.000000\n",
       "261547    15.000000\n",
       "261548    17.000000\n",
       "261549     9.000000\n",
       "261550    33.000000\n",
       "261551    10.000000\n",
       "261552    33.000000\n",
       "261553    24.000000\n",
       "Name: Trip_Duration, Length: 3009575, dtype: float64"
      ]
     },
     "execution_count": 5,
     "metadata": {},
     "output_type": "execute_result"
    }
   ],
   "source": [
    "Yearly_Data['Trip_Duration']"
   ]
  },
  {
   "cell_type": "code",
   "execution_count": 6,
   "metadata": {},
   "outputs": [
    {
     "data": {
      "image/png": "[encoded data removed]",
      "text/plain": [
       "<Figure size 432x288 with 1 Axes>"
      ]
     },
     "metadata": {
      "needs_background": "light"
     },
     "output_type": "display_data"
    }
   ],
   "source": [
    "#No significant or unique correlations found\n",
    "x_axis = Yearly_Data['Temp']\n",
    "y_axis = Yearly_Data['Trip_Duration']\n",
    "\n",
    "plt.title(\"Temp vs Trip_Duration\")\n",
    "plt.xlabel(\"Temp\")\n",
    "plt.ylabel(\"Trip_Duration\")\n",
    "\n",
    "plt.scatter(x_axis, y_axis, marker=\"o\", color=\"blue\")\n",
    "plt.show()"
   ]
  },
  {
   "cell_type": "code",
   "execution_count": 7,
   "metadata": {},
   "outputs": [
    {
     "data": {
      "image/png": "[encoded data removed]",
      "text/plain": [
       "<Figure size 432x288 with 1 Axes>"
      ]
     },
     "metadata": {
      "needs_background": "light"
     },
     "output_type": "display_data"
    }
   ],
   "source": [
    "#No significant or unique correlations found\n",
    "x_axis = Yearly_Data['humidity']\n",
    "y_axis = Yearly_Data['Trip_Duration']\n",
    "\n",
    "plt.title(\"humidity vs Trip_Duration\")\n",
    "plt.xlabel(\"Humidity\")\n",
    "plt.ylabel(\"Trip_Duration\")\n",
    "\n",
    "plt.scatter(x_axis, y_axis, marker=\"o\", color=\"blue\")\n",
    "plt.show()"
   ]
  },
  {
   "cell_type": "code",
   "execution_count": 8,
   "metadata": {},
   "outputs": [
    {
     "data": {
      "image/png": "[encoded data removed]",
      "text/plain": [
       "<Figure size 432x288 with 1 Axes>"
      ]
     },
     "metadata": {
      "needs_background": "light"
     },
     "output_type": "display_data"
    }
   ],
   "source": [
    "#No significant or unique correlations found (changed 'Time' to 'wind_speed')\n",
    "x_axis = Yearly_Data['wind_speed']\n",
    "y_axis = Yearly_Data['Trip_Duration']\n",
    "\n",
    "plt.title(\"wind_speed vs Trip_Duration\")\n",
    "plt.xlabel(\"wind_speed\")\n",
    "plt.ylabel(\"Trip_Duration\")\n",
    "\n",
    "plt.scatter(x_axis, y_axis, marker=\"o\", color=\"blue\")\n",
    "plt.show()"
   ]
  },
  {
   "cell_type": "code",
   "execution_count": 9,
   "metadata": {},
   "outputs": [
    {
     "data": {
      "image/png": "[encoded data removed]",
      "text/plain": [
       "<Figure size 432x288 with 1 Axes>"
      ]
     },
     "metadata": {
      "needs_background": "light"
     },
     "output_type": "display_data"
    }
   ],
   "source": [
    "#Show group; SR_Flag is the type of Uber rider (Pool, Single, etc...)\n",
    "x_axis = Yearly_Data['SR_Flag']\n",
    "y_axis = Yearly_Data['Trip_Duration']\n",
    "\n",
    "plt.title(\"Time vs Trip_Duration\")\n",
    "plt.xlabel(\"SR_Flag\")\n",
    "plt.ylabel(\"Trip_Duration\")\n",
    "\n",
    "plt.scatter(x_axis, y_axis, marker=\"o\", color=\"blue\")\n",
    "plt.show()"
   ]
  },
  {
   "cell_type": "code",
   "execution_count": 10,
   "metadata": {},
   "outputs": [
    {
     "data": {
      "text/plain": [
       "Pickup_DateTime        3009575\n",
       "DropOff_datetime       3009575\n",
       "PUlocationID           3009575\n",
       "DOlocationID           3009575\n",
       "SR_Flag                3009575\n",
       "Pickup_City            3009575\n",
       "Dropoff_City           3009575\n",
       "Pickup_ZipCode         3009575\n",
       "Dropoff_ZipCode        3009575\n",
       "Trip_Duration          3009575\n",
       "Temp                   3009575\n",
       "humidity               3009575\n",
       "wind_speed             3009575\n",
       "weather_id             3009575\n",
       "weather_main           3009575\n",
       "weather_description    3009575\n",
       "Time                   3009575\n",
       "Hour                   3009575\n",
       "Minute                 3009575\n",
       "Second                 3009575\n",
       "dtype: int64"
      ]
     },
     "execution_count": 10,
     "metadata": {},
     "output_type": "execute_result"
    }
   ],
   "source": [
    "#Perform a count\n",
    "Yearly_Data.count()"
   ]
  },
  {
   "cell_type": "code",
   "execution_count": 11,
   "metadata": {},
   "outputs": [
    {
     "data": {
      "text/plain": [
       "<bound method Series.count of 0         3\n",
       "1         2\n",
       "2         4\n",
       "3         5\n",
       "4         2\n",
       "5         4\n",
       "6         5\n",
       "7         5\n",
       "8         4\n",
       "9         2\n",
       "10        5\n",
       "11        1\n",
       "12        5\n",
       "13        5\n",
       "14        5\n",
       "15        4\n",
       "16        5\n",
       "17        5\n",
       "18        4\n",
       "19        2\n",
       "20        2\n",
       "21        4\n",
       "22        2\n",
       "23        3\n",
       "24        4\n",
       "25        1\n",
       "26        5\n",
       "27        5\n",
       "28        3\n",
       "29        5\n",
       "         ..\n",
       "261524    5\n",
       "261525    2\n",
       "261526    3\n",
       "261527    3\n",
       "261528    5\n",
       "261529    3\n",
       "261530    3\n",
       "261531    2\n",
       "261532    3\n",
       "261533    3\n",
       "261534    3\n",
       "261535    3\n",
       "261536    1\n",
       "261537    2\n",
       "261538    3\n",
       "261539    1\n",
       "261540    2\n",
       "261541    5\n",
       "261542    3\n",
       "261543    3\n",
       "261544    5\n",
       "261545    2\n",
       "261546    2\n",
       "261547    2\n",
       "261548    4\n",
       "261549    3\n",
       "261550    3\n",
       "261551    2\n",
       "261552    2\n",
       "261553    3\n",
       "Name: wind_speed, Length: 3009575, dtype: int64>"
      ]
     },
     "execution_count": 11,
     "metadata": {},
     "output_type": "execute_result"
    }
   ],
   "source": [
    "Yearly_Data['wind_speed'].count"
   ]
  },
  {
   "cell_type": "code",
   "execution_count": 12,
   "metadata": {},
   "outputs": [
    {
     "data": {
      "text/plain": [
       "3009575"
      ]
     },
     "execution_count": 12,
     "metadata": {},
     "output_type": "execute_result"
    }
   ],
   "source": [
    "Yearly_Data.wind_speed.count()"
   ]
  },
  {
   "cell_type": "code",
   "execution_count": 13,
   "metadata": {},
   "outputs": [
    {
     "data": {
      "text/plain": [
       "datetime.time(0, 0)"
      ]
     },
     "execution_count": 13,
     "metadata": {},
     "output_type": "execute_result"
    }
   ],
   "source": [
    "Yearly_Data.Time.min()"
   ]
  },
  {
   "cell_type": "code",
   "execution_count": 14,
   "metadata": {},
   "outputs": [
    {
     "data": {
      "text/plain": [
       "datetime.time(23, 59, 59)"
      ]
     },
     "execution_count": 14,
     "metadata": {},
     "output_type": "execute_result"
    }
   ],
   "source": [
    "Yearly_Data.Time.max()"
   ]
  },
  {
   "cell_type": "code",
   "execution_count": 15,
   "metadata": {},
   "outputs": [
    {
     "data": {
      "text/plain": [
       "0"
      ]
     },
     "execution_count": 15,
     "metadata": {},
     "output_type": "execute_result"
    }
   ],
   "source": [
    "Yearly_Data.wind_speed.min()"
   ]
  },
  {
   "cell_type": "code",
   "execution_count": 16,
   "metadata": {},
   "outputs": [
    {
     "data": {
      "text/plain": [
       "13"
      ]
     },
     "execution_count": 16,
     "metadata": {},
     "output_type": "execute_result"
    }
   ],
   "source": [
    "Yearly_Data.wind_speed.max()"
   ]
  },
  {
   "cell_type": "code",
   "execution_count": 17,
   "metadata": {},
   "outputs": [
    {
     "data": {
      "text/plain": [
       "'Sky is Clear'"
      ]
     },
     "execution_count": 17,
     "metadata": {},
     "output_type": "execute_result"
    }
   ],
   "source": [
    "Yearly_Data.weather_description.min()"
   ]
  },
  {
   "cell_type": "code",
   "execution_count": 18,
   "metadata": {},
   "outputs": [
    {
     "data": {
      "text/plain": [
       "'very heavy rain'"
      ]
     },
     "execution_count": 18,
     "metadata": {},
     "output_type": "execute_result"
    }
   ],
   "source": [
    "Yearly_Data.weather_description.max()"
   ]
  },
  {
   "cell_type": "code",
   "execution_count": 19,
   "metadata": {},
   "outputs": [
    {
     "data": {
      "text/plain": [
       "'Clear'"
      ]
     },
     "execution_count": 19,
     "metadata": {},
     "output_type": "execute_result"
    }
   ],
   "source": [
    "Yearly_Data.weather_main.min()"
   ]
  },
  {
   "cell_type": "code",
   "execution_count": 20,
   "metadata": {},
   "outputs": [
    {
     "data": {
      "text/plain": [
       "'Thunderstorm'"
      ]
     },
     "execution_count": 20,
     "metadata": {},
     "output_type": "execute_result"
    }
   ],
   "source": [
    "Yearly_Data.weather_main.max()"
   ]
  },
  {
   "cell_type": "code",
   "execution_count": 21,
   "metadata": {},
   "outputs": [
    {
     "data": {
      "text/plain": [
       "200"
      ]
     },
     "execution_count": 21,
     "metadata": {},
     "output_type": "execute_result"
    }
   ],
   "source": [
    "Yearly_Data.weather_id.min()"
   ]
  },
  {
   "cell_type": "code",
   "execution_count": 24,
   "metadata": {},
   "outputs": [
    {
     "data": {
      "text/plain": [
       "804"
      ]
     },
     "execution_count": 24,
     "metadata": {},
     "output_type": "execute_result"
    }
   ],
   "source": [
    "Yearly_Data.weather_id.max()"
   ]
  },
  {
   "cell_type": "code",
   "execution_count": 25,
   "metadata": {},
   "outputs": [
    {
     "data": {
      "text/html": [
       "<div>\n",
       "<style scoped>\n",
       "    .dataframe tbody tr th:only-of-type {\n",
       "        vertical-align: middle;\n",
       "    }\n",
       "\n",
       "    .dataframe tbody tr th {\n",
       "        vertical-align: top;\n",
       "    }\n",
       "\n",
       "    .dataframe thead th {\n",
       "        text-align: right;\n",
       "    }\n",
       "</style>\n",
       "<table border=\"1\" class=\"dataframe\">\n",
       "  <thead>\n",
       "    <tr style=\"text-align: right;\">\n",
       "      <th></th>\n",
       "      <th>PUlocationID</th>\n",
       "      <th>DOlocationID</th>\n",
       "      <th>SR_Flag</th>\n",
       "      <th>Pickup_ZipCode</th>\n",
       "      <th>Dropoff_ZipCode</th>\n",
       "      <th>Trip_Duration</th>\n",
       "      <th>Temp</th>\n",
       "      <th>humidity</th>\n",
       "      <th>weather_id</th>\n",
       "      <th>Hour</th>\n",
       "      <th>Minute</th>\n",
       "      <th>Second</th>\n",
       "    </tr>\n",
       "    <tr>\n",
       "      <th>wind_speed</th>\n",
       "      <th></th>\n",
       "      <th></th>\n",
       "      <th></th>\n",
       "      <th></th>\n",
       "      <th></th>\n",
       "      <th></th>\n",
       "      <th></th>\n",
       "      <th></th>\n",
       "      <th></th>\n",
       "      <th></th>\n",
       "      <th></th>\n",
       "      <th></th>\n",
       "    </tr>\n",
       "  </thead>\n",
       "  <tbody>\n",
       "    <tr>\n",
       "      <th>0</th>\n",
       "      <td>137.215324</td>\n",
       "      <td>137.379266</td>\n",
       "      <td>0.282227</td>\n",
       "      <td>10630.675749</td>\n",
       "      <td>10612.269788</td>\n",
       "      <td>20.335296</td>\n",
       "      <td>57.501238</td>\n",
       "      <td>71.002009</td>\n",
       "      <td>714.386394</td>\n",
       "      <td>10.878523</td>\n",
       "      <td>29.348085</td>\n",
       "      <td>28.540786</td>\n",
       "    </tr>\n",
       "    <tr>\n",
       "      <th>1</th>\n",
       "      <td>138.004895</td>\n",
       "      <td>136.876041</td>\n",
       "      <td>0.289515</td>\n",
       "      <td>10617.155004</td>\n",
       "      <td>10615.700624</td>\n",
       "      <td>20.195952</td>\n",
       "      <td>63.017196</td>\n",
       "      <td>69.210863</td>\n",
       "      <td>719.689168</td>\n",
       "      <td>12.944059</td>\n",
       "      <td>29.395762</td>\n",
       "      <td>27.687881</td>\n",
       "    </tr>\n",
       "    <tr>\n",
       "      <th>2</th>\n",
       "      <td>138.268089</td>\n",
       "      <td>136.999803</td>\n",
       "      <td>0.289836</td>\n",
       "      <td>10611.512783</td>\n",
       "      <td>10613.741035</td>\n",
       "      <td>20.236217</td>\n",
       "      <td>58.741418</td>\n",
       "      <td>66.909306</td>\n",
       "      <td>721.971812</td>\n",
       "      <td>13.349833</td>\n",
       "      <td>29.365436</td>\n",
       "      <td>26.861351</td>\n",
       "    </tr>\n",
       "    <tr>\n",
       "      <th>3</th>\n",
       "      <td>138.051856</td>\n",
       "      <td>136.831891</td>\n",
       "      <td>0.290154</td>\n",
       "      <td>10608.241508</td>\n",
       "      <td>10615.286301</td>\n",
       "      <td>19.943795</td>\n",
       "      <td>53.469453</td>\n",
       "      <td>64.780472</td>\n",
       "      <td>718.638202</td>\n",
       "      <td>13.539178</td>\n",
       "      <td>29.397188</td>\n",
       "      <td>26.430512</td>\n",
       "    </tr>\n",
       "    <tr>\n",
       "      <th>4</th>\n",
       "      <td>138.566320</td>\n",
       "      <td>136.942563</td>\n",
       "      <td>0.289075</td>\n",
       "      <td>10606.163633</td>\n",
       "      <td>10613.316473</td>\n",
       "      <td>19.855994</td>\n",
       "      <td>49.152771</td>\n",
       "      <td>63.751191</td>\n",
       "      <td>715.233727</td>\n",
       "      <td>13.665885</td>\n",
       "      <td>29.412765</td>\n",
       "      <td>26.369618</td>\n",
       "    </tr>\n",
       "    <tr>\n",
       "      <th>5</th>\n",
       "      <td>138.618944</td>\n",
       "      <td>136.961071</td>\n",
       "      <td>0.291746</td>\n",
       "      <td>10602.496455</td>\n",
       "      <td>10613.377920</td>\n",
       "      <td>19.925128</td>\n",
       "      <td>48.820163</td>\n",
       "      <td>60.728520</td>\n",
       "      <td>709.758861</td>\n",
       "      <td>14.490099</td>\n",
       "      <td>29.410970</td>\n",
       "      <td>26.605962</td>\n",
       "    </tr>\n",
       "    <tr>\n",
       "      <th>6</th>\n",
       "      <td>138.396728</td>\n",
       "      <td>137.127720</td>\n",
       "      <td>0.288481</td>\n",
       "      <td>10605.700982</td>\n",
       "      <td>10612.245414</td>\n",
       "      <td>19.736044</td>\n",
       "      <td>45.060704</td>\n",
       "      <td>58.315580</td>\n",
       "      <td>718.956549</td>\n",
       "      <td>14.996076</td>\n",
       "      <td>29.339955</td>\n",
       "      <td>27.566517</td>\n",
       "    </tr>\n",
       "    <tr>\n",
       "      <th>7</th>\n",
       "      <td>138.491540</td>\n",
       "      <td>137.661957</td>\n",
       "      <td>0.287680</td>\n",
       "      <td>10600.086107</td>\n",
       "      <td>10610.842052</td>\n",
       "      <td>19.723810</td>\n",
       "      <td>44.505370</td>\n",
       "      <td>58.142826</td>\n",
       "      <td>708.920073</td>\n",
       "      <td>15.119986</td>\n",
       "      <td>29.404808</td>\n",
       "      <td>27.381940</td>\n",
       "    </tr>\n",
       "    <tr>\n",
       "      <th>8</th>\n",
       "      <td>138.780542</td>\n",
       "      <td>137.769709</td>\n",
       "      <td>0.292712</td>\n",
       "      <td>10596.040285</td>\n",
       "      <td>10603.386742</td>\n",
       "      <td>19.850795</td>\n",
       "      <td>43.167378</td>\n",
       "      <td>62.417718</td>\n",
       "      <td>698.525325</td>\n",
       "      <td>15.656169</td>\n",
       "      <td>29.340079</td>\n",
       "      <td>27.908034</td>\n",
       "    </tr>\n",
       "    <tr>\n",
       "      <th>9</th>\n",
       "      <td>139.792035</td>\n",
       "      <td>138.302433</td>\n",
       "      <td>0.290943</td>\n",
       "      <td>10582.486222</td>\n",
       "      <td>10602.812312</td>\n",
       "      <td>20.085032</td>\n",
       "      <td>44.230945</td>\n",
       "      <td>51.307424</td>\n",
       "      <td>730.244671</td>\n",
       "      <td>16.721327</td>\n",
       "      <td>29.230997</td>\n",
       "      <td>28.214464</td>\n",
       "    </tr>\n",
       "    <tr>\n",
       "      <th>10</th>\n",
       "      <td>139.213150</td>\n",
       "      <td>138.117952</td>\n",
       "      <td>0.270202</td>\n",
       "      <td>10587.459344</td>\n",
       "      <td>10605.314288</td>\n",
       "      <td>19.273634</td>\n",
       "      <td>42.151246</td>\n",
       "      <td>62.407813</td>\n",
       "      <td>718.989962</td>\n",
       "      <td>16.304835</td>\n",
       "      <td>29.222938</td>\n",
       "      <td>29.071357</td>\n",
       "    </tr>\n",
       "    <tr>\n",
       "      <th>11</th>\n",
       "      <td>139.441436</td>\n",
       "      <td>137.226033</td>\n",
       "      <td>0.263137</td>\n",
       "      <td>10599.826514</td>\n",
       "      <td>10619.467509</td>\n",
       "      <td>18.338150</td>\n",
       "      <td>41.399118</td>\n",
       "      <td>59.598476</td>\n",
       "      <td>702.701966</td>\n",
       "      <td>14.089450</td>\n",
       "      <td>29.413357</td>\n",
       "      <td>29.494585</td>\n",
       "    </tr>\n",
       "    <tr>\n",
       "      <th>12</th>\n",
       "      <td>137.749543</td>\n",
       "      <td>132.599634</td>\n",
       "      <td>0.284278</td>\n",
       "      <td>10659.216636</td>\n",
       "      <td>10671.966179</td>\n",
       "      <td>19.519592</td>\n",
       "      <td>33.813528</td>\n",
       "      <td>70.532907</td>\n",
       "      <td>590.307130</td>\n",
       "      <td>10.916819</td>\n",
       "      <td>29.117002</td>\n",
       "      <td>17.089580</td>\n",
       "    </tr>\n",
       "    <tr>\n",
       "      <th>13</th>\n",
       "      <td>138.345483</td>\n",
       "      <td>133.553090</td>\n",
       "      <td>0.284469</td>\n",
       "      <td>10607.639461</td>\n",
       "      <td>10634.821712</td>\n",
       "      <td>20.398415</td>\n",
       "      <td>57.820919</td>\n",
       "      <td>54.506339</td>\n",
       "      <td>694.336767</td>\n",
       "      <td>18.264659</td>\n",
       "      <td>28.937401</td>\n",
       "      <td>28.716323</td>\n",
       "    </tr>\n",
       "  </tbody>\n",
       "</table>\n",
       "</div>"
      ],
      "text/plain": [
       "            PUlocationID  DOlocationID   SR_Flag  Pickup_ZipCode  \\\n",
       "wind_speed                                                         \n",
       "0             137.215324    137.379266  0.282227    10630.675749   \n",
       "1             138.004895    136.876041  0.289515    10617.155004   \n",
       "2             138.268089    136.999803  0.289836    10611.512783   \n",
       "3             138.051856    136.831891  0.290154    10608.241508   \n",
       "4             138.566320    136.942563  0.289075    10606.163633   \n",
       "5             138.618944    136.961071  0.291746    10602.496455   \n",
       "6             138.396728    137.127720  0.288481    10605.700982   \n",
       "7             138.491540    137.661957  0.287680    10600.086107   \n",
       "8             138.780542    137.769709  0.292712    10596.040285   \n",
       "9             139.792035    138.302433  0.290943    10582.486222   \n",
       "10            139.213150    138.117952  0.270202    10587.459344   \n",
       "11            139.441436    137.226033  0.263137    10599.826514   \n",
       "12            137.749543    132.599634  0.284278    10659.216636   \n",
       "13            138.345483    133.553090  0.284469    10607.639461   \n",
       "\n",
       "            Dropoff_ZipCode  Trip_Duration       Temp   humidity  weather_id  \\\n",
       "wind_speed                                                                     \n",
       "0              10612.269788      20.335296  57.501238  71.002009  714.386394   \n",
       "1              10615.700624      20.195952  63.017196  69.210863  719.689168   \n",
       "2              10613.741035      20.236217  58.741418  66.909306  721.971812   \n",
       "3              10615.286301      19.943795  53.469453  64.780472  718.638202   \n",
       "4              10613.316473      19.855994  49.152771  63.751191  715.233727   \n",
       "5              10613.377920      19.925128  48.820163  60.728520  709.758861   \n",
       "6              10612.245414      19.736044  45.060704  58.315580  718.956549   \n",
       "7              10610.842052      19.723810  44.505370  58.142826  708.920073   \n",
       "8              10603.386742      19.850795  43.167378  62.417718  698.525325   \n",
       "9              10602.812312      20.085032  44.230945  51.307424  730.244671   \n",
       "10             10605.314288      19.273634  42.151246  62.407813  718.989962   \n",
       "11             10619.467509      18.338150  41.399118  59.598476  702.701966   \n",
       "12             10671.966179      19.519592  33.813528  70.532907  590.307130   \n",
       "13             10634.821712      20.398415  57.820919  54.506339  694.336767   \n",
       "\n",
       "                 Hour     Minute     Second  \n",
       "wind_speed                                   \n",
       "0           10.878523  29.348085  28.540786  \n",
       "1           12.944059  29.395762  27.687881  \n",
       "2           13.349833  29.365436  26.861351  \n",
       "3           13.539178  29.397188  26.430512  \n",
       "4           13.665885  29.412765  26.369618  \n",
       "5           14.490099  29.410970  26.605962  \n",
       "6           14.996076  29.339955  27.566517  \n",
       "7           15.119986  29.404808  27.381940  \n",
       "8           15.656169  29.340079  27.908034  \n",
       "9           16.721327  29.230997  28.214464  \n",
       "10          16.304835  29.222938  29.071357  \n",
       "11          14.089450  29.413357  29.494585  \n",
       "12          10.916819  29.117002  17.089580  \n",
       "13          18.264659  28.937401  28.716323  "
      ]
     },
     "execution_count": 25,
     "metadata": {},
     "output_type": "execute_result"
    }
   ],
   "source": [
    "#Extra no need but I did incase\n",
    "Yearly_Data.groupby('wind_speed').mean()"
   ]
  },
  {
   "cell_type": "code",
   "execution_count": 26,
   "metadata": {},
   "outputs": [
    {
     "data": {
      "text/html": [
       "<div>\n",
       "<style scoped>\n",
       "    .dataframe tbody tr th:only-of-type {\n",
       "        vertical-align: middle;\n",
       "    }\n",
       "\n",
       "    .dataframe tbody tr th {\n",
       "        vertical-align: top;\n",
       "    }\n",
       "\n",
       "    .dataframe thead th {\n",
       "        text-align: right;\n",
       "    }\n",
       "</style>\n",
       "<table border=\"1\" class=\"dataframe\">\n",
       "  <thead>\n",
       "    <tr style=\"text-align: right;\">\n",
       "      <th></th>\n",
       "      <th>Pickup_DateTime</th>\n",
       "      <th>DropOff_datetime</th>\n",
       "      <th>PUlocationID</th>\n",
       "      <th>DOlocationID</th>\n",
       "      <th>SR_Flag</th>\n",
       "      <th>Pickup_City</th>\n",
       "      <th>Dropoff_City</th>\n",
       "      <th>Pickup_ZipCode</th>\n",
       "      <th>Dropoff_ZipCode</th>\n",
       "      <th>Trip_Duration</th>\n",
       "      <th>Temp</th>\n",
       "      <th>humidity</th>\n",
       "      <th>weather_id</th>\n",
       "      <th>weather_main</th>\n",
       "      <th>weather_description</th>\n",
       "      <th>Time</th>\n",
       "      <th>Hour</th>\n",
       "      <th>Minute</th>\n",
       "      <th>Second</th>\n",
       "    </tr>\n",
       "    <tr>\n",
       "      <th>wind_speed</th>\n",
       "      <th></th>\n",
       "      <th></th>\n",
       "      <th></th>\n",
       "      <th></th>\n",
       "      <th></th>\n",
       "      <th></th>\n",
       "      <th></th>\n",
       "      <th></th>\n",
       "      <th></th>\n",
       "      <th></th>\n",
       "      <th></th>\n",
       "      <th></th>\n",
       "      <th></th>\n",
       "      <th></th>\n",
       "      <th></th>\n",
       "      <th></th>\n",
       "      <th></th>\n",
       "      <th></th>\n",
       "      <th></th>\n",
       "    </tr>\n",
       "  </thead>\n",
       "  <tbody>\n",
       "    <tr>\n",
       "      <th>0</th>\n",
       "      <td>36336</td>\n",
       "      <td>36336</td>\n",
       "      <td>36336</td>\n",
       "      <td>36336</td>\n",
       "      <td>36336</td>\n",
       "      <td>36336</td>\n",
       "      <td>36336</td>\n",
       "      <td>36336</td>\n",
       "      <td>36336</td>\n",
       "      <td>36336</td>\n",
       "      <td>36336</td>\n",
       "      <td>36336</td>\n",
       "      <td>36336</td>\n",
       "      <td>36336</td>\n",
       "      <td>36336</td>\n",
       "      <td>36336</td>\n",
       "      <td>36336</td>\n",
       "      <td>36336</td>\n",
       "      <td>36336</td>\n",
       "    </tr>\n",
       "    <tr>\n",
       "      <th>1</th>\n",
       "      <td>677370</td>\n",
       "      <td>677370</td>\n",
       "      <td>677370</td>\n",
       "      <td>677370</td>\n",
       "      <td>677370</td>\n",
       "      <td>677370</td>\n",
       "      <td>677370</td>\n",
       "      <td>677370</td>\n",
       "      <td>677370</td>\n",
       "      <td>677370</td>\n",
       "      <td>677370</td>\n",
       "      <td>677370</td>\n",
       "      <td>677370</td>\n",
       "      <td>677370</td>\n",
       "      <td>677370</td>\n",
       "      <td>677370</td>\n",
       "      <td>677370</td>\n",
       "      <td>677370</td>\n",
       "      <td>677370</td>\n",
       "    </tr>\n",
       "    <tr>\n",
       "      <th>2</th>\n",
       "      <td>782039</td>\n",
       "      <td>782039</td>\n",
       "      <td>782039</td>\n",
       "      <td>782039</td>\n",
       "      <td>782039</td>\n",
       "      <td>782039</td>\n",
       "      <td>782039</td>\n",
       "      <td>782039</td>\n",
       "      <td>782039</td>\n",
       "      <td>782039</td>\n",
       "      <td>782039</td>\n",
       "      <td>782039</td>\n",
       "      <td>782039</td>\n",
       "      <td>782039</td>\n",
       "      <td>782039</td>\n",
       "      <td>782039</td>\n",
       "      <td>782039</td>\n",
       "      <td>782039</td>\n",
       "      <td>782039</td>\n",
       "    </tr>\n",
       "    <tr>\n",
       "      <th>3</th>\n",
       "      <td>592754</td>\n",
       "      <td>592754</td>\n",
       "      <td>592754</td>\n",
       "      <td>592754</td>\n",
       "      <td>592754</td>\n",
       "      <td>592754</td>\n",
       "      <td>592754</td>\n",
       "      <td>592754</td>\n",
       "      <td>592754</td>\n",
       "      <td>592754</td>\n",
       "      <td>592754</td>\n",
       "      <td>592754</td>\n",
       "      <td>592754</td>\n",
       "      <td>592754</td>\n",
       "      <td>592754</td>\n",
       "      <td>592754</td>\n",
       "      <td>592754</td>\n",
       "      <td>592754</td>\n",
       "      <td>592754</td>\n",
       "    </tr>\n",
       "    <tr>\n",
       "      <th>4</th>\n",
       "      <td>405456</td>\n",
       "      <td>405456</td>\n",
       "      <td>405456</td>\n",
       "      <td>405456</td>\n",
       "      <td>405456</td>\n",
       "      <td>405456</td>\n",
       "      <td>405456</td>\n",
       "      <td>405456</td>\n",
       "      <td>405456</td>\n",
       "      <td>405456</td>\n",
       "      <td>405456</td>\n",
       "      <td>405456</td>\n",
       "      <td>405456</td>\n",
       "      <td>405456</td>\n",
       "      <td>405456</td>\n",
       "      <td>405456</td>\n",
       "      <td>405456</td>\n",
       "      <td>405456</td>\n",
       "      <td>405456</td>\n",
       "    </tr>\n",
       "    <tr>\n",
       "      <th>5</th>\n",
       "      <td>217758</td>\n",
       "      <td>217758</td>\n",
       "      <td>217758</td>\n",
       "      <td>217758</td>\n",
       "      <td>217758</td>\n",
       "      <td>217758</td>\n",
       "      <td>217758</td>\n",
       "      <td>217758</td>\n",
       "      <td>217758</td>\n",
       "      <td>217758</td>\n",
       "      <td>217758</td>\n",
       "      <td>217758</td>\n",
       "      <td>217758</td>\n",
       "      <td>217758</td>\n",
       "      <td>217758</td>\n",
       "      <td>217758</td>\n",
       "      <td>217758</td>\n",
       "      <td>217758</td>\n",
       "      <td>217758</td>\n",
       "    </tr>\n",
       "    <tr>\n",
       "      <th>6</th>\n",
       "      <td>143219</td>\n",
       "      <td>143219</td>\n",
       "      <td>143219</td>\n",
       "      <td>143219</td>\n",
       "      <td>143219</td>\n",
       "      <td>143219</td>\n",
       "      <td>143219</td>\n",
       "      <td>143219</td>\n",
       "      <td>143219</td>\n",
       "      <td>143219</td>\n",
       "      <td>143219</td>\n",
       "      <td>143219</td>\n",
       "      <td>143219</td>\n",
       "      <td>143219</td>\n",
       "      <td>143219</td>\n",
       "      <td>143219</td>\n",
       "      <td>143219</td>\n",
       "      <td>143219</td>\n",
       "      <td>143219</td>\n",
       "    </tr>\n",
       "    <tr>\n",
       "      <th>7</th>\n",
       "      <td>73467</td>\n",
       "      <td>73467</td>\n",
       "      <td>73467</td>\n",
       "      <td>73467</td>\n",
       "      <td>73467</td>\n",
       "      <td>73467</td>\n",
       "      <td>73467</td>\n",
       "      <td>73467</td>\n",
       "      <td>73467</td>\n",
       "      <td>73467</td>\n",
       "      <td>73467</td>\n",
       "      <td>73467</td>\n",
       "      <td>73467</td>\n",
       "      <td>73467</td>\n",
       "      <td>73467</td>\n",
       "      <td>73467</td>\n",
       "      <td>73467</td>\n",
       "      <td>73467</td>\n",
       "      <td>73467</td>\n",
       "    </tr>\n",
       "    <tr>\n",
       "      <th>8</th>\n",
       "      <td>42646</td>\n",
       "      <td>42646</td>\n",
       "      <td>42646</td>\n",
       "      <td>42646</td>\n",
       "      <td>42646</td>\n",
       "      <td>42646</td>\n",
       "      <td>42646</td>\n",
       "      <td>42646</td>\n",
       "      <td>42646</td>\n",
       "      <td>42646</td>\n",
       "      <td>42646</td>\n",
       "      <td>42646</td>\n",
       "      <td>42646</td>\n",
       "      <td>42646</td>\n",
       "      <td>42646</td>\n",
       "      <td>42646</td>\n",
       "      <td>42646</td>\n",
       "      <td>42646</td>\n",
       "      <td>42646</td>\n",
       "    </tr>\n",
       "    <tr>\n",
       "      <th>9</th>\n",
       "      <td>19234</td>\n",
       "      <td>19234</td>\n",
       "      <td>19234</td>\n",
       "      <td>19234</td>\n",
       "      <td>19234</td>\n",
       "      <td>19234</td>\n",
       "      <td>19234</td>\n",
       "      <td>19234</td>\n",
       "      <td>19234</td>\n",
       "      <td>19234</td>\n",
       "      <td>19234</td>\n",
       "      <td>19234</td>\n",
       "      <td>19234</td>\n",
       "      <td>19234</td>\n",
       "      <td>19234</td>\n",
       "      <td>19234</td>\n",
       "      <td>19234</td>\n",
       "      <td>19234</td>\n",
       "      <td>19234</td>\n",
       "    </tr>\n",
       "    <tr>\n",
       "      <th>10</th>\n",
       "      <td>11954</td>\n",
       "      <td>11954</td>\n",
       "      <td>11954</td>\n",
       "      <td>11954</td>\n",
       "      <td>11954</td>\n",
       "      <td>11954</td>\n",
       "      <td>11954</td>\n",
       "      <td>11954</td>\n",
       "      <td>11954</td>\n",
       "      <td>11954</td>\n",
       "      <td>11954</td>\n",
       "      <td>11954</td>\n",
       "      <td>11954</td>\n",
       "      <td>11954</td>\n",
       "      <td>11954</td>\n",
       "      <td>11954</td>\n",
       "      <td>11954</td>\n",
       "      <td>11954</td>\n",
       "      <td>11954</td>\n",
       "    </tr>\n",
       "    <tr>\n",
       "      <th>11</th>\n",
       "      <td>4986</td>\n",
       "      <td>4986</td>\n",
       "      <td>4986</td>\n",
       "      <td>4986</td>\n",
       "      <td>4986</td>\n",
       "      <td>4986</td>\n",
       "      <td>4986</td>\n",
       "      <td>4986</td>\n",
       "      <td>4986</td>\n",
       "      <td>4986</td>\n",
       "      <td>4986</td>\n",
       "      <td>4986</td>\n",
       "      <td>4986</td>\n",
       "      <td>4986</td>\n",
       "      <td>4986</td>\n",
       "      <td>4986</td>\n",
       "      <td>4986</td>\n",
       "      <td>4986</td>\n",
       "      <td>4986</td>\n",
       "    </tr>\n",
       "    <tr>\n",
       "      <th>12</th>\n",
       "      <td>1094</td>\n",
       "      <td>1094</td>\n",
       "      <td>1094</td>\n",
       "      <td>1094</td>\n",
       "      <td>1094</td>\n",
       "      <td>1094</td>\n",
       "      <td>1094</td>\n",
       "      <td>1094</td>\n",
       "      <td>1094</td>\n",
       "      <td>1094</td>\n",
       "      <td>1094</td>\n",
       "      <td>1094</td>\n",
       "      <td>1094</td>\n",
       "      <td>1094</td>\n",
       "      <td>1094</td>\n",
       "      <td>1094</td>\n",
       "      <td>1094</td>\n",
       "      <td>1094</td>\n",
       "      <td>1094</td>\n",
       "    </tr>\n",
       "    <tr>\n",
       "      <th>13</th>\n",
       "      <td>1262</td>\n",
       "      <td>1262</td>\n",
       "      <td>1262</td>\n",
       "      <td>1262</td>\n",
       "      <td>1262</td>\n",
       "      <td>1262</td>\n",
       "      <td>1262</td>\n",
       "      <td>1262</td>\n",
       "      <td>1262</td>\n",
       "      <td>1262</td>\n",
       "      <td>1262</td>\n",
       "      <td>1262</td>\n",
       "      <td>1262</td>\n",
       "      <td>1262</td>\n",
       "      <td>1262</td>\n",
       "      <td>1262</td>\n",
       "      <td>1262</td>\n",
       "      <td>1262</td>\n",
       "      <td>1262</td>\n",
       "    </tr>\n",
       "  </tbody>\n",
       "</table>\n",
       "</div>"
      ],
      "text/plain": [
       "            Pickup_DateTime  DropOff_datetime  PUlocationID  DOlocationID  \\\n",
       "wind_speed                                                                  \n",
       "0                     36336             36336         36336         36336   \n",
       "1                    677370            677370        677370        677370   \n",
       "2                    782039            782039        782039        782039   \n",
       "3                    592754            592754        592754        592754   \n",
       "4                    405456            405456        405456        405456   \n",
       "5                    217758            217758        217758        217758   \n",
       "6                    143219            143219        143219        143219   \n",
       "7                     73467             73467         73467         73467   \n",
       "8                     42646             42646         42646         42646   \n",
       "9                     19234             19234         19234         19234   \n",
       "10                    11954             11954         11954         11954   \n",
       "11                     4986              4986          4986          4986   \n",
       "12                     1094              1094          1094          1094   \n",
       "13                     1262              1262          1262          1262   \n",
       "\n",
       "            SR_Flag  Pickup_City  Dropoff_City  Pickup_ZipCode  \\\n",
       "wind_speed                                                       \n",
       "0             36336        36336         36336           36336   \n",
       "1            677370       677370        677370          677370   \n",
       "2            782039       782039        782039          782039   \n",
       "3            592754       592754        592754          592754   \n",
       "4            405456       405456        405456          405456   \n",
       "5            217758       217758        217758          217758   \n",
       "6            143219       143219        143219          143219   \n",
       "7             73467        73467         73467           73467   \n",
       "8             42646        42646         42646           42646   \n",
       "9             19234        19234         19234           19234   \n",
       "10            11954        11954         11954           11954   \n",
       "11             4986         4986          4986            4986   \n",
       "12             1094         1094          1094            1094   \n",
       "13             1262         1262          1262            1262   \n",
       "\n",
       "            Dropoff_ZipCode  Trip_Duration    Temp  humidity  weather_id  \\\n",
       "wind_speed                                                                 \n",
       "0                     36336          36336   36336     36336       36336   \n",
       "1                    677370         677370  677370    677370      677370   \n",
       "2                    782039         782039  782039    782039      782039   \n",
       "3                    592754         592754  592754    592754      592754   \n",
       "4                    405456         405456  405456    405456      405456   \n",
       "5                    217758         217758  217758    217758      217758   \n",
       "6                    143219         143219  143219    143219      143219   \n",
       "7                     73467          73467   73467     73467       73467   \n",
       "8                     42646          42646   42646     42646       42646   \n",
       "9                     19234          19234   19234     19234       19234   \n",
       "10                    11954          11954   11954     11954       11954   \n",
       "11                     4986           4986    4986      4986        4986   \n",
       "12                     1094           1094    1094      1094        1094   \n",
       "13                     1262           1262    1262      1262        1262   \n",
       "\n",
       "            weather_main  weather_description    Time    Hour  Minute  Second  \n",
       "wind_speed                                                                     \n",
       "0                  36336                36336   36336   36336   36336   36336  \n",
       "1                 677370               677370  677370  677370  677370  677370  \n",
       "2                 782039               782039  782039  782039  782039  782039  \n",
       "3                 592754               592754  592754  592754  592754  592754  \n",
       "4                 405456               405456  405456  405456  405456  405456  \n",
       "5                 217758               217758  217758  217758  217758  217758  \n",
       "6                 143219               143219  143219  143219  143219  143219  \n",
       "7                  73467                73467   73467   73467   73467   73467  \n",
       "8                  42646                42646   42646   42646   42646   42646  \n",
       "9                  19234                19234   19234   19234   19234   19234  \n",
       "10                 11954                11954   11954   11954   11954   11954  \n",
       "11                  4986                 4986    4986    4986    4986    4986  \n",
       "12                  1094                 1094    1094    1094    1094    1094  \n",
       "13                  1262                 1262    1262    1262    1262    1262  "
      ]
     },
     "execution_count": 26,
     "metadata": {},
     "output_type": "execute_result"
    }
   ],
   "source": [
    "Yearly_Data.groupby('wind_speed').count()"
   ]
  },
  {
   "cell_type": "code",
   "execution_count": 27,
   "metadata": {},
   "outputs": [
    {
     "data": {
      "image/png": "[encoded data removed]",
      "text/plain": [
       "<Figure size 432x288 with 1 Axes>"
      ]
     },
     "metadata": {
      "needs_background": "light"
     },
     "output_type": "display_data"
    }
   ],
   "source": [
    "#After grouping and counting I graphed 'wind_speed' vs 'Trip_Duration'\n",
    "x_axis = Yearly_Data['wind_speed']\n",
    "y_axis = Yearly_Data['Trip_Duration']\n",
    "\n",
    "plt.title(\"wind_speed vs Trip_Duration\")\n",
    "plt.xlabel(\"wind_speed\")\n",
    "plt.ylabel(\"Trip_Duration\")\n",
    "\n",
    "plt.scatter(x_axis, y_axis, marker=\"o\", color=\"blue\")\n",
    "plt.show()"
   ]
  },
  {
   "cell_type": "code",
   "execution_count": 28,
   "metadata": {},
   "outputs": [
    {
     "data": {
      "image/png": "[encoded data removed]",
      "text/plain": [
       "<Figure size 432x288 with 1 Axes>"
      ]
     },
     "metadata": {
      "needs_background": "light"
     },
     "output_type": "display_data"
    }
   ],
   "source": [
    "#could not find the number of rides in the CSV so i graphed 'SR_Flag' vs 'wind_speed'\n",
    "x_axis = Yearly_Data['wind_speed']\n",
    "y_axis = Yearly_Data['SR_Flag']\n",
    "\n",
    "plt.title(\"wind_speed vs Trip_Duration\")\n",
    "plt.xlabel(\"wind_speed\")\n",
    "plt.ylabel(\"Trip_Duration\")\n",
    "\n",
    "plt.scatter(x_axis, y_axis, marker=\"o\", color=\"blue\")\n",
    "plt.show()\n",
    "#HAHAHAH"
   ]
  },
  {
   "cell_type": "code",
   "execution_count": 29,
   "metadata": {},
   "outputs": [
    {
     "data": {
      "text/plain": [
       "<pandas.core.groupby.generic.DataFrameGroupBy object at 0x1b2d6dfd0>"
      ]
     },
     "execution_count": 29,
     "metadata": {},
     "output_type": "execute_result"
    }
   ],
   "source": [
    "#groupby windspeed, then take mean of trip duration\n",
    "Yearly_Data.groupby('wind_speed')"
   ]
  },
  {
   "cell_type": "code",
   "execution_count": 30,
   "metadata": {},
   "outputs": [
    {
     "data": {
      "text/plain": [
       "20.047124311573103"
      ]
     },
     "execution_count": 30,
     "metadata": {},
     "output_type": "execute_result"
    }
   ],
   "source": [
    "Yearly_Data['Trip_Duration'].mean()"
   ]
  },
  {
   "cell_type": "code",
   "execution_count": 31,
   "metadata": {},
   "outputs": [
    {
     "data": {
      "text/plain": [
       "3009575"
      ]
     },
     "execution_count": 31,
     "metadata": {},
     "output_type": "execute_result"
    }
   ],
   "source": [
    "Yearly_Data['Trip_Duration'].count()"
   ]
  },
  {
   "cell_type": "code",
   "execution_count": 32,
   "metadata": {},
   "outputs": [
    {
     "data": {
      "image/png": "[encoded data removed]",
      "text/plain": [
       "<Figure size 432x288 with 1 Axes>"
      ]
     },
     "metadata": {
      "needs_background": "light"
     },
     "output_type": "display_data"
    }
   ],
   "source": [
    "x_axis = Yearly_Data['wind_speed']\n",
    "y_axis = Yearly_Data['Trip_Duration']\n",
    "\n",
    "plt.title(\"wind_speed vs Trip_Duration\")\n",
    "plt.xlabel(\"wind_speed\")\n",
    "plt.ylabel(\"Trip_Duration\")\n",
    "\n",
    "plt.scatter(x_axis, y_axis, marker=\"o\", color=\"blue\")\n",
    "plt.show()"
   ]
  },
  {
   "cell_type": "code",
   "execution_count": 33,
   "metadata": {},
   "outputs": [
    {
     "data": {
      "text/plain": [
       "2.9313444589352318"
      ]
     },
     "execution_count": 33,
     "metadata": {},
     "output_type": "execute_result"
    }
   ],
   "source": [
    "Yearly_Data['wind_speed'].mean()"
   ]
  },
  {
   "cell_type": "code",
   "execution_count": 34,
   "metadata": {},
   "outputs": [
    {
     "data": {
      "image/png": "[encoded data removed]",
      "text/plain": [
       "<Figure size 432x288 with 1 Axes>"
      ]
     },
     "metadata": {
      "needs_background": "light"
     },
     "output_type": "display_data"
    }
   ],
   "source": [
    "#Temp vs Trip_Duration ----> No correlation \n",
    "x_axis = Yearly_Data['Temp']\n",
    "y_axis = Yearly_Data['Trip_Duration']\n",
    "\n",
    "plt.title(\"Temp vs Trip_Duration\")\n",
    "plt.xlabel(\"Temp\")\n",
    "plt.ylabel(\"Trip_Duration\")\n",
    "\n",
    "plt.scatter(x_axis, y_axis, marker=\"o\", color=\"blue\")\n",
    "plt.show()"
   ]
  },
  {
   "cell_type": "code",
   "execution_count": 35,
   "metadata": {},
   "outputs": [
    {
     "data": {
      "image/png": "[encoded data removed]",
      "text/plain": [
       "<Figure size 432x288 with 1 Axes>"
      ]
     },
     "metadata": {
      "needs_background": "light"
     },
     "output_type": "display_data"
    }
   ],
   "source": [
    "x_axis = Yearly_Data['SR_Flag']\n",
    "y_axis = Yearly_Data['Trip_Duration']\n",
    "\n",
    "plt.title(\"SR_Flag vs Trip_Duration\")\n",
    "plt.xlabel(\"SR_Flag\")\n",
    "plt.ylabel(\"Trip_Duration\")\n",
    "\n",
    "plt.scatter(x_axis, y_axis, marker=\"o\", color=\"blue\")\n",
    "plt.show()"
   ]
  },
  {
   "cell_type": "code",
   "execution_count": 36,
   "metadata": {},
   "outputs": [
    {
     "data": {
      "image/png": "[encoded data removed]",
      "text/plain": [
       "<Figure size 432x288 with 1 Axes>"
      ]
     },
     "metadata": {
      "needs_background": "light"
     },
     "output_type": "display_data"
    }
   ],
   "source": [
    "#Hour vs Trip_Duration\n",
    "x_axis = Yearly_Data['Hour']\n",
    "y_axis = Yearly_Data['Trip_Duration']\n",
    "\n",
    "plt.title(\"Hour vs Trip_Duration\")\n",
    "plt.xlabel(\"Hour\")\n",
    "plt.ylabel(\"Trip_Duration\")\n",
    "\n",
    "plt.scatter(x_axis, y_axis, marker=\"o\", color=\"blue\")\n",
    "plt.show()"
   ]
  },
  {
   "cell_type": "code",
   "execution_count": 37,
   "metadata": {},
   "outputs": [
    {
     "data": {
      "text/html": [
       "<div>\n",
       "<style scoped>\n",
       "    .dataframe tbody tr th:only-of-type {\n",
       "        vertical-align: middle;\n",
       "    }\n",
       "\n",
       "    .dataframe tbody tr th {\n",
       "        vertical-align: top;\n",
       "    }\n",
       "\n",
       "    .dataframe thead th {\n",
       "        text-align: right;\n",
       "    }\n",
       "</style>\n",
       "<table border=\"1\" class=\"dataframe\">\n",
       "  <thead>\n",
       "    <tr style=\"text-align: right;\">\n",
       "      <th></th>\n",
       "      <th>Pickup_DateTime</th>\n",
       "      <th>DropOff_datetime</th>\n",
       "      <th>PUlocationID</th>\n",
       "      <th>DOlocationID</th>\n",
       "      <th>SR_Flag</th>\n",
       "      <th>Pickup_City</th>\n",
       "      <th>Dropoff_City</th>\n",
       "      <th>Pickup_ZipCode</th>\n",
       "      <th>Dropoff_ZipCode</th>\n",
       "      <th>Trip_Duration</th>\n",
       "      <th>Temp</th>\n",
       "      <th>humidity</th>\n",
       "      <th>wind_speed</th>\n",
       "      <th>weather_id</th>\n",
       "      <th>weather_main</th>\n",
       "      <th>weather_description</th>\n",
       "      <th>Time</th>\n",
       "      <th>Hour</th>\n",
       "      <th>Minute</th>\n",
       "      <th>Second</th>\n",
       "    </tr>\n",
       "  </thead>\n",
       "  <tbody>\n",
       "    <tr>\n",
       "      <th>0</th>\n",
       "      <td>2018-01-01 22:22:00</td>\n",
       "      <td>1/1/18 22:44</td>\n",
       "      <td>205.0</td>\n",
       "      <td>63.0</td>\n",
       "      <td>1.0</td>\n",
       "      <td>Saint Albans, Queens</td>\n",
       "      <td>Cypress Hills, Brooklyn</td>\n",
       "      <td>11366</td>\n",
       "      <td>11216</td>\n",
       "      <td>22.750000</td>\n",
       "      <td>17</td>\n",
       "      <td>34</td>\n",
       "      <td>3</td>\n",
       "      <td>800</td>\n",
       "      <td>Clear</td>\n",
       "      <td>sky is clear</td>\n",
       "      <td>22:22:00</td>\n",
       "      <td>22</td>\n",
       "      <td>22</td>\n",
       "      <td>0</td>\n",
       "    </tr>\n",
       "    <tr>\n",
       "      <th>1</th>\n",
       "      <td>2018-01-01 12:44:00</td>\n",
       "      <td>1/1/18 13:12</td>\n",
       "      <td>125.0</td>\n",
       "      <td>93.0</td>\n",
       "      <td>0.0</td>\n",
       "      <td>Hudson Sq, Manhattan</td>\n",
       "      <td>Flushing Meadows-Corona Park, Queens</td>\n",
       "      <td>10024</td>\n",
       "      <td>11366</td>\n",
       "      <td>28.033333</td>\n",
       "      <td>6</td>\n",
       "      <td>60</td>\n",
       "      <td>2</td>\n",
       "      <td>800</td>\n",
       "      <td>Clear</td>\n",
       "      <td>sky is clear</td>\n",
       "      <td>12:44:00</td>\n",
       "      <td>12</td>\n",
       "      <td>44</td>\n",
       "      <td>0</td>\n",
       "    </tr>\n",
       "    <tr>\n",
       "      <th>2</th>\n",
       "      <td>2018-01-01 00:28:00</td>\n",
       "      <td>1/1/18 0:41</td>\n",
       "      <td>39.0</td>\n",
       "      <td>71.0</td>\n",
       "      <td>1.0</td>\n",
       "      <td>Canarsie, Brooklyn</td>\n",
       "      <td>East Flatbush/Farragut, Brooklyn</td>\n",
       "      <td>11216</td>\n",
       "      <td>11216</td>\n",
       "      <td>13.116667</td>\n",
       "      <td>11</td>\n",
       "      <td>43</td>\n",
       "      <td>4</td>\n",
       "      <td>800</td>\n",
       "      <td>Clear</td>\n",
       "      <td>sky is clear</td>\n",
       "      <td>00:28:00</td>\n",
       "      <td>0</td>\n",
       "      <td>28</td>\n",
       "      <td>0</td>\n",
       "    </tr>\n",
       "    <tr>\n",
       "      <th>3</th>\n",
       "      <td>2018-01-01 02:42:00</td>\n",
       "      <td>1/1/18 2:56</td>\n",
       "      <td>100.0</td>\n",
       "      <td>137.0</td>\n",
       "      <td>0.0</td>\n",
       "      <td>Garment District, Manhattan</td>\n",
       "      <td>Kips Bay, Manhattan</td>\n",
       "      <td>10024</td>\n",
       "      <td>10024</td>\n",
       "      <td>13.850000</td>\n",
       "      <td>9</td>\n",
       "      <td>46</td>\n",
       "      <td>5</td>\n",
       "      <td>800</td>\n",
       "      <td>Clear</td>\n",
       "      <td>sky is clear</td>\n",
       "      <td>02:42:00</td>\n",
       "      <td>2</td>\n",
       "      <td>42</td>\n",
       "      <td>0</td>\n",
       "    </tr>\n",
       "    <tr>\n",
       "      <th>4</th>\n",
       "      <td>2018-01-01 14:15:00</td>\n",
       "      <td>1/1/18 14:37</td>\n",
       "      <td>55.0</td>\n",
       "      <td>115.0</td>\n",
       "      <td>0.0</td>\n",
       "      <td>Coney Island, Brooklyn</td>\n",
       "      <td>Grymes Hill/Clifton, Staten Island</td>\n",
       "      <td>11216</td>\n",
       "      <td>10306</td>\n",
       "      <td>22.150000</td>\n",
       "      <td>8</td>\n",
       "      <td>60</td>\n",
       "      <td>2</td>\n",
       "      <td>800</td>\n",
       "      <td>Clear</td>\n",
       "      <td>sky is clear</td>\n",
       "      <td>14:15:00</td>\n",
       "      <td>14</td>\n",
       "      <td>15</td>\n",
       "      <td>0</td>\n",
       "    </tr>\n",
       "  </tbody>\n",
       "</table>\n",
       "</div>"
      ],
      "text/plain": [
       "      Pickup_DateTime DropOff_datetime  PUlocationID  DOlocationID  SR_Flag  \\\n",
       "0 2018-01-01 22:22:00     1/1/18 22:44         205.0          63.0      1.0   \n",
       "1 2018-01-01 12:44:00     1/1/18 13:12         125.0          93.0      0.0   \n",
       "2 2018-01-01 00:28:00      1/1/18 0:41          39.0          71.0      1.0   \n",
       "3 2018-01-01 02:42:00      1/1/18 2:56         100.0         137.0      0.0   \n",
       "4 2018-01-01 14:15:00     1/1/18 14:37          55.0         115.0      0.0   \n",
       "\n",
       "                   Pickup_City                          Dropoff_City  \\\n",
       "0         Saint Albans, Queens               Cypress Hills, Brooklyn   \n",
       "1         Hudson Sq, Manhattan  Flushing Meadows-Corona Park, Queens   \n",
       "2           Canarsie, Brooklyn      East Flatbush/Farragut, Brooklyn   \n",
       "3  Garment District, Manhattan                   Kips Bay, Manhattan   \n",
       "4       Coney Island, Brooklyn    Grymes Hill/Clifton, Staten Island   \n",
       "\n",
       "   Pickup_ZipCode  Dropoff_ZipCode  Trip_Duration  Temp  humidity  wind_speed  \\\n",
       "0           11366            11216      22.750000    17        34           3   \n",
       "1           10024            11366      28.033333     6        60           2   \n",
       "2           11216            11216      13.116667    11        43           4   \n",
       "3           10024            10024      13.850000     9        46           5   \n",
       "4           11216            10306      22.150000     8        60           2   \n",
       "\n",
       "   weather_id weather_main weather_description      Time  Hour  Minute  Second  \n",
       "0         800        Clear        sky is clear  22:22:00    22      22       0  \n",
       "1         800        Clear        sky is clear  12:44:00    12      44       0  \n",
       "2         800        Clear        sky is clear  00:28:00     0      28       0  \n",
       "3         800        Clear        sky is clear  02:42:00     2      42       0  \n",
       "4         800        Clear        sky is clear  14:15:00    14      15       0  "
      ]
     },
     "execution_count": 37,
     "metadata": {},
     "output_type": "execute_result"
    }
   ],
   "source": [
    "Yearly_Data.head()"
   ]
  },
  {
   "cell_type": "code",
   "execution_count": 38,
   "metadata": {},
   "outputs": [
    {
     "data": {
      "text/html": [
       "<div>\n",
       "<style scoped>\n",
       "    .dataframe tbody tr th:only-of-type {\n",
       "        vertical-align: middle;\n",
       "    }\n",
       "\n",
       "    .dataframe tbody tr th {\n",
       "        vertical-align: top;\n",
       "    }\n",
       "\n",
       "    .dataframe thead th {\n",
       "        text-align: right;\n",
       "    }\n",
       "</style>\n",
       "<table border=\"1\" class=\"dataframe\">\n",
       "  <thead>\n",
       "    <tr style=\"text-align: right;\">\n",
       "      <th></th>\n",
       "      <th>Pickup_DateTime</th>\n",
       "      <th>Pickup_ZipCode</th>\n",
       "    </tr>\n",
       "  </thead>\n",
       "  <tbody>\n",
       "    <tr>\n",
       "      <th>0</th>\n",
       "      <td>2018-01-01 22:22:00</td>\n",
       "      <td>11366</td>\n",
       "    </tr>\n",
       "    <tr>\n",
       "      <th>1</th>\n",
       "      <td>2018-01-01 12:44:00</td>\n",
       "      <td>10024</td>\n",
       "    </tr>\n",
       "    <tr>\n",
       "      <th>2</th>\n",
       "      <td>2018-01-01 00:28:00</td>\n",
       "      <td>11216</td>\n",
       "    </tr>\n",
       "    <tr>\n",
       "      <th>3</th>\n",
       "      <td>2018-01-01 02:42:00</td>\n",
       "      <td>10024</td>\n",
       "    </tr>\n",
       "    <tr>\n",
       "      <th>4</th>\n",
       "      <td>2018-01-01 14:15:00</td>\n",
       "      <td>11216</td>\n",
       "    </tr>\n",
       "  </tbody>\n",
       "</table>\n",
       "</div>"
      ],
      "text/plain": [
       "      Pickup_DateTime  Pickup_ZipCode\n",
       "0 2018-01-01 22:22:00           11366\n",
       "1 2018-01-01 12:44:00           10024\n",
       "2 2018-01-01 00:28:00           11216\n",
       "3 2018-01-01 02:42:00           10024\n",
       "4 2018-01-01 14:15:00           11216"
      ]
     },
     "execution_count": 38,
     "metadata": {},
     "output_type": "execute_result"
    }
   ],
   "source": [
    "zip_code = Yearly_Data[[\"Pickup_DateTime\",\"Pickup_ZipCode\"]]\n",
    "zip_code.head()"
   ]
  },
  {
   "cell_type": "code",
   "execution_count": 39,
   "metadata": {},
   "outputs": [
    {
     "data": {
      "text/html": [
       "<div>\n",
       "<style scoped>\n",
       "    .dataframe tbody tr th:only-of-type {\n",
       "        vertical-align: middle;\n",
       "    }\n",
       "\n",
       "    .dataframe tbody tr th {\n",
       "        vertical-align: top;\n",
       "    }\n",
       "\n",
       "    .dataframe thead th {\n",
       "        text-align: right;\n",
       "    }\n",
       "</style>\n",
       "<table border=\"1\" class=\"dataframe\">\n",
       "  <thead>\n",
       "    <tr style=\"text-align: right;\">\n",
       "      <th></th>\n",
       "      <th>Pickup_ZipCode</th>\n",
       "      <th>Pickup_DateTime</th>\n",
       "    </tr>\n",
       "  </thead>\n",
       "  <tbody>\n",
       "    <tr>\n",
       "      <th>0</th>\n",
       "      <td>7114</td>\n",
       "      <td>383</td>\n",
       "    </tr>\n",
       "    <tr>\n",
       "      <th>1</th>\n",
       "      <td>10001</td>\n",
       "      <td>54294</td>\n",
       "    </tr>\n",
       "    <tr>\n",
       "      <th>2</th>\n",
       "      <td>10003</td>\n",
       "      <td>42948</td>\n",
       "    </tr>\n",
       "    <tr>\n",
       "      <th>3</th>\n",
       "      <td>10004</td>\n",
       "      <td>819</td>\n",
       "    </tr>\n",
       "    <tr>\n",
       "      <th>4</th>\n",
       "      <td>10007</td>\n",
       "      <td>38010</td>\n",
       "    </tr>\n",
       "  </tbody>\n",
       "</table>\n",
       "</div>"
      ],
      "text/plain": [
       "   Pickup_ZipCode  Pickup_DateTime\n",
       "0            7114              383\n",
       "1           10001            54294\n",
       "2           10003            42948\n",
       "3           10004              819\n",
       "4           10007            38010"
      ]
     },
     "execution_count": 39,
     "metadata": {},
     "output_type": "execute_result"
    }
   ],
   "source": [
    "zip_code_group = zip_code.groupby(\"Pickup_ZipCode\").count().reset_index()\n",
    "zip_code_group.head()"
   ]
  },
  {
   "cell_type": "code",
   "execution_count": 40,
   "metadata": {},
   "outputs": [
    {
     "data": {
      "text/html": [
       "<div>\n",
       "<style scoped>\n",
       "    .dataframe tbody tr th:only-of-type {\n",
       "        vertical-align: middle;\n",
       "    }\n",
       "\n",
       "    .dataframe tbody tr th {\n",
       "        vertical-align: top;\n",
       "    }\n",
       "\n",
       "    .dataframe thead th {\n",
       "        text-align: right;\n",
       "    }\n",
       "</style>\n",
       "<table border=\"1\" class=\"dataframe\">\n",
       "  <thead>\n",
       "    <tr style=\"text-align: right;\">\n",
       "      <th></th>\n",
       "      <th>index</th>\n",
       "      <th>Pickup_ZipCode</th>\n",
       "      <th>Count</th>\n",
       "    </tr>\n",
       "  </thead>\n",
       "  <tbody>\n",
       "    <tr>\n",
       "      <th>0</th>\n",
       "      <td>10</td>\n",
       "      <td>10024</td>\n",
       "      <td>998735</td>\n",
       "    </tr>\n",
       "    <tr>\n",
       "      <th>1</th>\n",
       "      <td>37</td>\n",
       "      <td>11216</td>\n",
       "      <td>710315</td>\n",
       "    </tr>\n",
       "    <tr>\n",
       "      <th>2</th>\n",
       "      <td>44</td>\n",
       "      <td>11366</td>\n",
       "      <td>406937</td>\n",
       "    </tr>\n",
       "    <tr>\n",
       "      <th>3</th>\n",
       "      <td>25</td>\n",
       "      <td>10462</td>\n",
       "      <td>209576</td>\n",
       "    </tr>\n",
       "    <tr>\n",
       "      <th>4</th>\n",
       "      <td>14</td>\n",
       "      <td>10036</td>\n",
       "      <td>62975</td>\n",
       "    </tr>\n",
       "    <tr>\n",
       "      <th>5</th>\n",
       "      <td>1</td>\n",
       "      <td>10001</td>\n",
       "      <td>54294</td>\n",
       "    </tr>\n",
       "    <tr>\n",
       "      <th>6</th>\n",
       "      <td>2</td>\n",
       "      <td>10003</td>\n",
       "      <td>42948</td>\n",
       "    </tr>\n",
       "    <tr>\n",
       "      <th>7</th>\n",
       "      <td>4</td>\n",
       "      <td>10007</td>\n",
       "      <td>38010</td>\n",
       "    </tr>\n",
       "    <tr>\n",
       "      <th>8</th>\n",
       "      <td>46</td>\n",
       "      <td>11371</td>\n",
       "      <td>37262</td>\n",
       "    </tr>\n",
       "    <tr>\n",
       "      <th>9</th>\n",
       "      <td>21</td>\n",
       "      <td>10451</td>\n",
       "      <td>36313</td>\n",
       "    </tr>\n",
       "  </tbody>\n",
       "</table>\n",
       "</div>"
      ],
      "text/plain": [
       "   index  Pickup_ZipCode   Count\n",
       "0     10           10024  998735\n",
       "1     37           11216  710315\n",
       "2     44           11366  406937\n",
       "3     25           10462  209576\n",
       "4     14           10036   62975\n",
       "5      1           10001   54294\n",
       "6      2           10003   42948\n",
       "7      4           10007   38010\n",
       "8     46           11371   37262\n",
       "9     21           10451   36313"
      ]
     },
     "execution_count": 40,
     "metadata": {},
     "output_type": "execute_result"
    }
   ],
   "source": [
    "zip_code_df =zip_code_group.rename(columns={\"Pickup_DateTime\":\"Count\"})\n",
    "zip_code_df.head()\n",
    "zip_code_df.sort_values(\"Count\",ascending = False,inplace=True)\n",
    "zip_code_df = zip_code_df.reset_index()\n",
    "zip_code_df = zip_code_df.head(10)\n",
    "zip_code_df\n"
   ]
  },
  {
   "cell_type": "code",
   "execution_count": null,
   "metadata": {},
   "outputs": [],
   "source": [
    "pickup_zipcode = zip_code_df[\"Pickup\"]"
   ]
  },
  {
   "cell_type": "code",
   "execution_count": 56,
   "metadata": {},
   "outputs": [
    {
     "ename": "ValueError",
     "evalue": "'label' must be of length 'x'",
     "output_type": "error",
     "traceback": [
      "\u001b[0;31m---------------------------------------------------------------------------\u001b[0m",
      "\u001b[0;31mValueError\u001b[0m                                Traceback (most recent call last)",
      "\u001b[0;32m<ipython-input-56-48e7efa6c821>\u001b[0m in \u001b[0;36m<module>\u001b[0;34m\u001b[0m\n\u001b[1;32m      2\u001b[0m \u001b[0;31m#colors = [maroon,blue,pink,yellow,green,brown,purple,olive,orange,orchid]\u001b[0m\u001b[0;34m\u001b[0m\u001b[0;34m\u001b[0m\u001b[0;34m\u001b[0m\u001b[0m\n\u001b[1;32m      3\u001b[0m plt.pie(zip_code_df, explode=explode, labels='Pickup_Zipcode', #colors=colors,\n\u001b[0;32m----> 4\u001b[0;31m         autopct=\"%11.1f%%\", shadow=True, startangle=170)\n\u001b[0m\u001b[1;32m      5\u001b[0m \u001b[0;31m#plt.show()\u001b[0m\u001b[0;34m\u001b[0m\u001b[0;34m\u001b[0m\u001b[0;34m\u001b[0m\u001b[0m\n",
      "\u001b[0;32m/anaconda3/envs/PythonData/lib/python3.6/site-packages/matplotlib/pyplot.py\u001b[0m in \u001b[0;36mpie\u001b[0;34m(x, explode, labels, colors, autopct, pctdistance, shadow, labeldistance, startangle, radius, counterclock, wedgeprops, textprops, center, frame, rotatelabels, data)\u001b[0m\n\u001b[1;32m   2779\u001b[0m         \u001b[0mwedgeprops\u001b[0m\u001b[0;34m=\u001b[0m\u001b[0mwedgeprops\u001b[0m\u001b[0;34m,\u001b[0m \u001b[0mtextprops\u001b[0m\u001b[0;34m=\u001b[0m\u001b[0mtextprops\u001b[0m\u001b[0;34m,\u001b[0m \u001b[0mcenter\u001b[0m\u001b[0;34m=\u001b[0m\u001b[0mcenter\u001b[0m\u001b[0;34m,\u001b[0m\u001b[0;34m\u001b[0m\u001b[0;34m\u001b[0m\u001b[0m\n\u001b[1;32m   2780\u001b[0m         frame=frame, rotatelabels=rotatelabels, **({\"data\": data} if\n\u001b[0;32m-> 2781\u001b[0;31m         data is not None else {}))\n\u001b[0m\u001b[1;32m   2782\u001b[0m \u001b[0;34m\u001b[0m\u001b[0m\n\u001b[1;32m   2783\u001b[0m \u001b[0;34m\u001b[0m\u001b[0m\n",
      "\u001b[0;32m/anaconda3/envs/PythonData/lib/python3.6/site-packages/matplotlib/__init__.py\u001b[0m in \u001b[0;36minner\u001b[0;34m(ax, data, *args, **kwargs)\u001b[0m\n\u001b[1;32m   1587\u001b[0m     \u001b[0;32mdef\u001b[0m \u001b[0minner\u001b[0m\u001b[0;34m(\u001b[0m\u001b[0max\u001b[0m\u001b[0;34m,\u001b[0m \u001b[0;34m*\u001b[0m\u001b[0margs\u001b[0m\u001b[0;34m,\u001b[0m \u001b[0mdata\u001b[0m\u001b[0;34m=\u001b[0m\u001b[0;32mNone\u001b[0m\u001b[0;34m,\u001b[0m \u001b[0;34m**\u001b[0m\u001b[0mkwargs\u001b[0m\u001b[0;34m)\u001b[0m\u001b[0;34m:\u001b[0m\u001b[0;34m\u001b[0m\u001b[0;34m\u001b[0m\u001b[0m\n\u001b[1;32m   1588\u001b[0m         \u001b[0;32mif\u001b[0m \u001b[0mdata\u001b[0m \u001b[0;32mis\u001b[0m \u001b[0;32mNone\u001b[0m\u001b[0;34m:\u001b[0m\u001b[0;34m\u001b[0m\u001b[0;34m\u001b[0m\u001b[0m\n\u001b[0;32m-> 1589\u001b[0;31m             \u001b[0;32mreturn\u001b[0m \u001b[0mfunc\u001b[0m\u001b[0;34m(\u001b[0m\u001b[0max\u001b[0m\u001b[0;34m,\u001b[0m \u001b[0;34m*\u001b[0m\u001b[0mmap\u001b[0m\u001b[0;34m(\u001b[0m\u001b[0msanitize_sequence\u001b[0m\u001b[0;34m,\u001b[0m \u001b[0margs\u001b[0m\u001b[0;34m)\u001b[0m\u001b[0;34m,\u001b[0m \u001b[0;34m**\u001b[0m\u001b[0mkwargs\u001b[0m\u001b[0;34m)\u001b[0m\u001b[0;34m\u001b[0m\u001b[0;34m\u001b[0m\u001b[0m\n\u001b[0m\u001b[1;32m   1590\u001b[0m \u001b[0;34m\u001b[0m\u001b[0m\n\u001b[1;32m   1591\u001b[0m         \u001b[0mbound\u001b[0m \u001b[0;34m=\u001b[0m \u001b[0mnew_sig\u001b[0m\u001b[0;34m.\u001b[0m\u001b[0mbind\u001b[0m\u001b[0;34m(\u001b[0m\u001b[0max\u001b[0m\u001b[0;34m,\u001b[0m \u001b[0;34m*\u001b[0m\u001b[0margs\u001b[0m\u001b[0;34m,\u001b[0m \u001b[0;34m**\u001b[0m\u001b[0mkwargs\u001b[0m\u001b[0;34m)\u001b[0m\u001b[0;34m\u001b[0m\u001b[0;34m\u001b[0m\u001b[0m\n",
      "\u001b[0;32m/anaconda3/envs/PythonData/lib/python3.6/site-packages/matplotlib/axes/_axes.py\u001b[0m in \u001b[0;36mpie\u001b[0;34m(self, x, explode, labels, colors, autopct, pctdistance, shadow, labeldistance, startangle, radius, counterclock, wedgeprops, textprops, center, frame, rotatelabels)\u001b[0m\n\u001b[1;32m   2981\u001b[0m             \u001b[0mexplode\u001b[0m \u001b[0;34m=\u001b[0m \u001b[0;34m[\u001b[0m\u001b[0;36m0\u001b[0m\u001b[0;34m]\u001b[0m \u001b[0;34m*\u001b[0m \u001b[0mlen\u001b[0m\u001b[0;34m(\u001b[0m\u001b[0mx\u001b[0m\u001b[0;34m)\u001b[0m\u001b[0;34m\u001b[0m\u001b[0;34m\u001b[0m\u001b[0m\n\u001b[1;32m   2982\u001b[0m         \u001b[0;32mif\u001b[0m \u001b[0mlen\u001b[0m\u001b[0;34m(\u001b[0m\u001b[0mx\u001b[0m\u001b[0;34m)\u001b[0m \u001b[0;34m!=\u001b[0m \u001b[0mlen\u001b[0m\u001b[0;34m(\u001b[0m\u001b[0mlabels\u001b[0m\u001b[0;34m)\u001b[0m\u001b[0;34m:\u001b[0m\u001b[0;34m\u001b[0m\u001b[0;34m\u001b[0m\u001b[0m\n\u001b[0;32m-> 2983\u001b[0;31m             \u001b[0;32mraise\u001b[0m \u001b[0mValueError\u001b[0m\u001b[0;34m(\u001b[0m\u001b[0;34m\"'label' must be of length 'x'\"\u001b[0m\u001b[0;34m)\u001b[0m\u001b[0;34m\u001b[0m\u001b[0;34m\u001b[0m\u001b[0m\n\u001b[0m\u001b[1;32m   2984\u001b[0m         \u001b[0;32mif\u001b[0m \u001b[0mlen\u001b[0m\u001b[0;34m(\u001b[0m\u001b[0mx\u001b[0m\u001b[0;34m)\u001b[0m \u001b[0;34m!=\u001b[0m \u001b[0mlen\u001b[0m\u001b[0;34m(\u001b[0m\u001b[0mexplode\u001b[0m\u001b[0;34m)\u001b[0m\u001b[0;34m:\u001b[0m\u001b[0;34m\u001b[0m\u001b[0;34m\u001b[0m\u001b[0m\n\u001b[1;32m   2985\u001b[0m             \u001b[0;32mraise\u001b[0m \u001b[0mValueError\u001b[0m\u001b[0;34m(\u001b[0m\u001b[0;34m\"'explode' must be of length 'x'\"\u001b[0m\u001b[0;34m)\u001b[0m\u001b[0;34m\u001b[0m\u001b[0;34m\u001b[0m\u001b[0m\n",
      "\u001b[0;31mValueError\u001b[0m: 'label' must be of length 'x'"
     ]
    },
    {
     "data": {
      "image/png": "[encoded data removed]",
      "text/plain": [
       "<Figure size 432x288 with 1 Axes>"
      ]
     },
     "metadata": {
      "needs_background": "light"
     },
     "output_type": "display_data"
    }
   ],
   "source": [
    "#explode = [0,0,0,0,0,0,0,0,0,0.1]\n",
    "#colors = [maroon,blue,pink,yellow,green,brown,purple,olive,orange,orchid]\n",
    "plt.pie(zip, explode=explode, labels='Pickup_Zipcode', #colors=colors,\n",
    "        autopct=\"%11.1f%%\", shadow=True, startangle=170)\n",
    "#plt.show()"
   ]
  },
  {
   "cell_type": "code",
   "execution_count": 58,
   "metadata": {},
   "outputs": [
    {
     "ename": "SyntaxError",
     "evalue": "invalid syntax (<ipython-input-58-4c0d6621296e>, line 9)",
     "output_type": "error",
     "traceback": [
      "\u001b[0;36m  File \u001b[0;32m\"<ipython-input-58-4c0d6621296e>\"\u001b[0;36m, line \u001b[0;32m9\u001b[0m\n\u001b[0;31m    labels=['Pickup_ZipCode']\u001b[0m\n\u001b[0m         ^\u001b[0m\n\u001b[0;31mSyntaxError\u001b[0m\u001b[0;31m:\u001b[0m invalid syntax\n"
     ]
    }
   ],
   "source": [
    "# Create a list of colors (from iWantHue)\n",
    "colors = [\"#E13F29\", \"#D69A80\", \"#D63B59\", \"#AE5552\", \"#CB5C3B\", \"#EB8076\", \"#96624E\"]\n",
    "\n",
    "# Create a pie chart\n",
    "plt.pie(\n",
    "    # using data zipcode\n",
    "    zip_code_df\n",
    "    # with the labels being zipcodes\n",
    "    labels=['Pickup_ZipCode']\n",
    "    # with no shadows\n",
    "    shadow=False,\n",
    "    # with colors\n",
    "    colors=colors,\n",
    "    # with no slide exploded out\n",
    "    explode=(0,0,0,0,0,0,0,0,0,0),\n",
    "    # with the start angle at 90%\n",
    "    startangle=90,\n",
    "    # with the percent listed as a fraction\n",
    "    autopct='%1.1f%%',\n",
    "    )\n",
    "\n",
    "# View the plot drop above\n",
    "plt.axis('equal')\n",
    "\n",
    "# View the plot\n",
    "plt.tight_layout()\n",
    "plt.show()\n"
   ]
  },
  {
   "cell_type": "code",
   "execution_count": null,
   "metadata": {},
   "outputs": [],
   "source": []
  }
 ],
 "metadata": {
  "kernelspec": {
   "display_name": "Python 3",
   "language": "python",
   "name": "python3"
  },
  "language_info": {
   "codemirror_mode": {
    "name": "ipython",
    "version": 3
   },
   "file_extension": ".py",
   "mimetype": "text/x-python",
   "name": "python",
   "nbconvert_exporter": "python",
   "pygments_lexer": "ipython3",
   "version": "3.6.8"
  }
 },
 "nbformat": 4,
 "nbformat_minor": 2
}
